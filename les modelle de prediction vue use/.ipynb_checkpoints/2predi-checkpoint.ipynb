{
 "cells": [
  {
   "cell_type": "code",
   "execution_count": 1,
   "id": "9359a595-dc78-48f1-a558-ab7280980487",
   "metadata": {},
   "outputs": [
    {
     "name": "stdout",
     "output_type": "stream",
     "text": [
      "['اخبار_وطنية' 'المغرب-العالمي' 'regions' 'economie' 'politique'\n",
      " 'art-et-culture' 'صحة']\n"
     ]
    }
   ],
   "source": [
    "import numpy as np\n",
    "import pandas as pd\n",
    "from sklearn.feature_extraction.text import TfidfVectorizer\n",
    "from sklearn.preprocessing import OneHotEncoder\n",
    "from sklearn.model_selection import train_test_split\n",
    "\n",
    "# Lecture des données à partir du fichier Excel\n",
    "df = pd.read_excel('surprise.xlsx')\n",
    "\n",
    "# Afficher les catégories uniques de 'type_news'\n",
    "print(df['type_news'].unique())\n",
    "\n",
    "# Ajouter la catégorie manquante si nécessaire\n",
    "categories = np.unique(np.append(df['type_news'].unique(), 'اخبار_وطنية'))\n",
    "\n",
    "# Conversion de 'type_news' en encodage one-hot avec les catégories complètes\n",
    "encoder = OneHotEncoder(categories=[categories])\n",
    "type_news_encoded = encoder.fit_transform(df[['type_news']]).toarray()\n",
    "\n",
    "# Utilisation de TfidfVectorizer pour convertir 'Titre de la page et classe de l'écran' en matrice TF-IDF\n",
    "tfidf_vectorizer = TfidfVectorizer(max_features=500)\n",
    "titre_tfidf = tfidf_vectorizer.fit_transform(df['Titre de la page et classe de l\\'écran']).toarray()\n",
    "\n",
    "# Combinaison des données traitées\n",
    "X = np.concatenate((titre_tfidf, type_news_encoded), axis=1)\n",
    "y_vues = df['Vues'].values\n",
    "y_users = df['Utilisateurs'].values  # Assurez-vous que la colonne 'Utilisateurs' existe dans votre fichier Excel\n",
    "\n",
    "# Combinaison des deux cibles\n",
    "y = np.column_stack((y_vues, y_users))\n",
    "\n",
    "X_train, X_test, y_train, y_test = train_test_split(X, y, test_size=0.2, random_state=42)\n"
   ]
  },
  {
   "cell_type": "code",
   "execution_count": 2,
   "id": "1aad6a84-1539-4a8b-8af9-eca716cfa0f8",
   "metadata": {},
   "outputs": [
    {
     "name": "stdout",
     "output_type": "stream",
     "text": [
      "Epoch 1/50\n"
     ]
    },
    {
     "name": "stderr",
     "output_type": "stream",
     "text": [
      "C:\\Users\\hp\\AppData\\Local\\Programs\\Python\\Python312\\Lib\\site-packages\\keras\\src\\layers\\core\\dense.py:87: UserWarning: Do not pass an `input_shape`/`input_dim` argument to a layer. When using Sequential models, prefer using an `Input(shape)` object as the first layer in the model instead.\n",
      "  super().__init__(activity_regularizer=activity_regularizer, **kwargs)\n"
     ]
    },
    {
     "name": "stdout",
     "output_type": "stream",
     "text": [
      "\u001b[1m100/100\u001b[0m \u001b[32m━━━━━━━━━━━━━━━━━━━━\u001b[0m\u001b[37m\u001b[0m \u001b[1m1s\u001b[0m 3ms/step - loss: 1788897.6250 - mean_squared_error: 1788897.6250 - val_loss: 572677.0625 - val_mean_squared_error: 572677.0625\n",
      "Epoch 2/50\n",
      "\u001b[1m100/100\u001b[0m \u001b[32m━━━━━━━━━━━━━━━━━━━━\u001b[0m\u001b[37m\u001b[0m \u001b[1m0s\u001b[0m 2ms/step - loss: 2479533.7500 - mean_squared_error: 2479533.7500 - val_loss: 558649.8750 - val_mean_squared_error: 558649.8750\n",
      "Epoch 3/50\n",
      "\u001b[1m100/100\u001b[0m \u001b[32m━━━━━━━━━━━━━━━━━━━━\u001b[0m\u001b[37m\u001b[0m \u001b[1m0s\u001b[0m 2ms/step - loss: 9437013.0000 - mean_squared_error: 9437013.0000 - val_loss: 551926.9375 - val_mean_squared_error: 551926.9375\n",
      "Epoch 4/50\n",
      "\u001b[1m100/100\u001b[0m \u001b[32m━━━━━━━━━━━━━━━━━━━━\u001b[0m\u001b[37m\u001b[0m \u001b[1m0s\u001b[0m 2ms/step - loss: 3335570.7500 - mean_squared_error: 3335570.7500 - val_loss: 546422.2500 - val_mean_squared_error: 546422.2500\n",
      "Epoch 5/50\n",
      "\u001b[1m100/100\u001b[0m \u001b[32m━━━━━━━━━━━━━━━━━━━━\u001b[0m\u001b[37m\u001b[0m \u001b[1m0s\u001b[0m 2ms/step - loss: 2370405.7500 - mean_squared_error: 2370405.7500 - val_loss: 541664.9375 - val_mean_squared_error: 541664.9375\n",
      "Epoch 6/50\n",
      "\u001b[1m100/100\u001b[0m \u001b[32m━━━━━━━━━━━━━━━━━━━━\u001b[0m\u001b[37m\u001b[0m \u001b[1m0s\u001b[0m 2ms/step - loss: 6164300.5000 - mean_squared_error: 6164300.5000 - val_loss: 536163.0000 - val_mean_squared_error: 536163.0000\n",
      "Epoch 7/50\n",
      "\u001b[1m100/100\u001b[0m \u001b[32m━━━━━━━━━━━━━━━━━━━━\u001b[0m\u001b[37m\u001b[0m \u001b[1m0s\u001b[0m 2ms/step - loss: 4467639.5000 - mean_squared_error: 4467639.5000 - val_loss: 531699.3750 - val_mean_squared_error: 531699.3750\n",
      "Epoch 8/50\n",
      "\u001b[1m100/100\u001b[0m \u001b[32m━━━━━━━━━━━━━━━━━━━━\u001b[0m\u001b[37m\u001b[0m \u001b[1m0s\u001b[0m 2ms/step - loss: 8207400.5000 - mean_squared_error: 8207400.5000 - val_loss: 526277.6250 - val_mean_squared_error: 526277.6250\n",
      "Epoch 9/50\n",
      "\u001b[1m100/100\u001b[0m \u001b[32m━━━━━━━━━━━━━━━━━━━━\u001b[0m\u001b[37m\u001b[0m \u001b[1m0s\u001b[0m 2ms/step - loss: 3941101.7500 - mean_squared_error: 3941101.7500 - val_loss: 521473.8125 - val_mean_squared_error: 521473.8125\n",
      "Epoch 10/50\n",
      "\u001b[1m100/100\u001b[0m \u001b[32m━━━━━━━━━━━━━━━━━━━━\u001b[0m\u001b[37m\u001b[0m \u001b[1m0s\u001b[0m 2ms/step - loss: 3340031.0000 - mean_squared_error: 3340031.0000 - val_loss: 515374.8125 - val_mean_squared_error: 515374.8125\n",
      "Epoch 11/50\n",
      "\u001b[1m100/100\u001b[0m \u001b[32m━━━━━━━━━━━━━━━━━━━━\u001b[0m\u001b[37m\u001b[0m \u001b[1m0s\u001b[0m 2ms/step - loss: 17939334.0000 - mean_squared_error: 17939334.0000 - val_loss: 509287.7500 - val_mean_squared_error: 509287.7500\n",
      "Epoch 12/50\n",
      "\u001b[1m100/100\u001b[0m \u001b[32m━━━━━━━━━━━━━━━━━━━━\u001b[0m\u001b[37m\u001b[0m \u001b[1m0s\u001b[0m 2ms/step - loss: 4796888.5000 - mean_squared_error: 4796888.5000 - val_loss: 505148.0000 - val_mean_squared_error: 505148.0000\n",
      "Epoch 13/50\n",
      "\u001b[1m100/100\u001b[0m \u001b[32m━━━━━━━━━━━━━━━━━━━━\u001b[0m\u001b[37m\u001b[0m \u001b[1m0s\u001b[0m 2ms/step - loss: 7974309.0000 - mean_squared_error: 7974309.0000 - val_loss: 500703.6875 - val_mean_squared_error: 500703.6875\n",
      "Epoch 14/50\n",
      "\u001b[1m100/100\u001b[0m \u001b[32m━━━━━━━━━━━━━━━━━━━━\u001b[0m\u001b[37m\u001b[0m \u001b[1m0s\u001b[0m 2ms/step - loss: 15641662.0000 - mean_squared_error: 15641662.0000 - val_loss: 496685.1875 - val_mean_squared_error: 496685.1875\n",
      "Epoch 15/50\n",
      "\u001b[1m100/100\u001b[0m \u001b[32m━━━━━━━━━━━━━━━━━━━━\u001b[0m\u001b[37m\u001b[0m \u001b[1m0s\u001b[0m 2ms/step - loss: 8966100.0000 - mean_squared_error: 8966100.0000 - val_loss: 493957.9062 - val_mean_squared_error: 493957.9062\n",
      "Epoch 16/50\n",
      "\u001b[1m100/100\u001b[0m \u001b[32m━━━━━━━━━━━━━━━━━━━━\u001b[0m\u001b[37m\u001b[0m \u001b[1m0s\u001b[0m 3ms/step - loss: 13218581.0000 - mean_squared_error: 13218581.0000 - val_loss: 490300.1562 - val_mean_squared_error: 490300.1562\n",
      "Epoch 17/50\n",
      "\u001b[1m100/100\u001b[0m \u001b[32m━━━━━━━━━━━━━━━━━━━━\u001b[0m\u001b[37m\u001b[0m \u001b[1m0s\u001b[0m 2ms/step - loss: 18175336.0000 - mean_squared_error: 18175336.0000 - val_loss: 484839.4375 - val_mean_squared_error: 484839.4375\n",
      "Epoch 18/50\n",
      "\u001b[1m100/100\u001b[0m \u001b[32m━━━━━━━━━━━━━━━━━━━━\u001b[0m\u001b[37m\u001b[0m \u001b[1m0s\u001b[0m 2ms/step - loss: 13435848.0000 - mean_squared_error: 13435848.0000 - val_loss: 481565.8438 - val_mean_squared_error: 481565.8438\n",
      "Epoch 19/50\n",
      "\u001b[1m100/100\u001b[0m \u001b[32m━━━━━━━━━━━━━━━━━━━━\u001b[0m\u001b[37m\u001b[0m \u001b[1m0s\u001b[0m 2ms/step - loss: 5626147.0000 - mean_squared_error: 5626147.0000 - val_loss: 481417.4688 - val_mean_squared_error: 481417.4688\n",
      "Epoch 20/50\n",
      "\u001b[1m100/100\u001b[0m \u001b[32m━━━━━━━━━━━━━━━━━━━━\u001b[0m\u001b[37m\u001b[0m \u001b[1m0s\u001b[0m 2ms/step - loss: 3337524.5000 - mean_squared_error: 3337524.5000 - val_loss: 476797.9062 - val_mean_squared_error: 476797.9062\n",
      "Epoch 21/50\n",
      "\u001b[1m100/100\u001b[0m \u001b[32m━━━━━━━━━━━━━━━━━━━━\u001b[0m\u001b[37m\u001b[0m \u001b[1m0s\u001b[0m 2ms/step - loss: 2663520.2500 - mean_squared_error: 2663520.2500 - val_loss: 476034.7500 - val_mean_squared_error: 476034.7500\n",
      "Epoch 22/50\n",
      "\u001b[1m100/100\u001b[0m \u001b[32m━━━━━━━━━━━━━━━━━━━━\u001b[0m\u001b[37m\u001b[0m \u001b[1m0s\u001b[0m 3ms/step - loss: 5843155.5000 - mean_squared_error: 5843155.5000 - val_loss: 468023.4688 - val_mean_squared_error: 468023.4688\n",
      "Epoch 23/50\n",
      "\u001b[1m100/100\u001b[0m \u001b[32m━━━━━━━━━━━━━━━━━━━━\u001b[0m\u001b[37m\u001b[0m \u001b[1m0s\u001b[0m 2ms/step - loss: 3570694.2500 - mean_squared_error: 3570694.2500 - val_loss: 462128.5625 - val_mean_squared_error: 462128.5625\n",
      "Epoch 24/50\n",
      "\u001b[1m100/100\u001b[0m \u001b[32m━━━━━━━━━━━━━━━━━━━━\u001b[0m\u001b[37m\u001b[0m \u001b[1m0s\u001b[0m 2ms/step - loss: 5060212.0000 - mean_squared_error: 5060212.0000 - val_loss: 462508.1250 - val_mean_squared_error: 462508.1250\n",
      "Epoch 25/50\n",
      "\u001b[1m100/100\u001b[0m \u001b[32m━━━━━━━━━━━━━━━━━━━━\u001b[0m\u001b[37m\u001b[0m \u001b[1m0s\u001b[0m 2ms/step - loss: 2076243.1250 - mean_squared_error: 2076243.1250 - val_loss: 461362.1250 - val_mean_squared_error: 461362.1250\n",
      "Epoch 26/50\n",
      "\u001b[1m100/100\u001b[0m \u001b[32m━━━━━━━━━━━━━━━━━━━━\u001b[0m\u001b[37m\u001b[0m \u001b[1m0s\u001b[0m 2ms/step - loss: 5558296.0000 - mean_squared_error: 5558296.0000 - val_loss: 460106.9062 - val_mean_squared_error: 460106.9062\n",
      "Epoch 27/50\n",
      "\u001b[1m100/100\u001b[0m \u001b[32m━━━━━━━━━━━━━━━━━━━━\u001b[0m\u001b[37m\u001b[0m \u001b[1m0s\u001b[0m 2ms/step - loss: 2420078.7500 - mean_squared_error: 2420078.7500 - val_loss: 457191.4688 - val_mean_squared_error: 457191.4688\n",
      "Epoch 28/50\n",
      "\u001b[1m100/100\u001b[0m \u001b[32m━━━━━━━━━━━━━━━━━━━━\u001b[0m\u001b[37m\u001b[0m \u001b[1m0s\u001b[0m 2ms/step - loss: 2638306.7500 - mean_squared_error: 2638306.7500 - val_loss: 471819.2500 - val_mean_squared_error: 471819.2500\n",
      "Epoch 29/50\n",
      "\u001b[1m100/100\u001b[0m \u001b[32m━━━━━━━━━━━━━━━━━━━━\u001b[0m\u001b[37m\u001b[0m \u001b[1m0s\u001b[0m 2ms/step - loss: 2183221.0000 - mean_squared_error: 2183221.0000 - val_loss: 460980.5938 - val_mean_squared_error: 460980.5938\n",
      "Epoch 30/50\n",
      "\u001b[1m100/100\u001b[0m \u001b[32m━━━━━━━━━━━━━━━━━━━━\u001b[0m\u001b[37m\u001b[0m \u001b[1m0s\u001b[0m 2ms/step - loss: 2995476.2500 - mean_squared_error: 2995476.2500 - val_loss: 458973.6250 - val_mean_squared_error: 458973.6250\n",
      "Epoch 31/50\n",
      "\u001b[1m100/100\u001b[0m \u001b[32m━━━━━━━━━━━━━━━━━━━━\u001b[0m\u001b[37m\u001b[0m \u001b[1m0s\u001b[0m 2ms/step - loss: 4791176.0000 - mean_squared_error: 4791176.0000 - val_loss: 466499.3750 - val_mean_squared_error: 466499.3750\n",
      "Epoch 32/50\n",
      "\u001b[1m100/100\u001b[0m \u001b[32m━━━━━━━━━━━━━━━━━━━━\u001b[0m\u001b[37m\u001b[0m \u001b[1m0s\u001b[0m 2ms/step - loss: 9566981.0000 - mean_squared_error: 9566981.0000 - val_loss: 468318.5312 - val_mean_squared_error: 468318.5312\n",
      "Epoch 33/50\n",
      "\u001b[1m100/100\u001b[0m \u001b[32m━━━━━━━━━━━━━━━━━━━━\u001b[0m\u001b[37m\u001b[0m \u001b[1m0s\u001b[0m 2ms/step - loss: 1134817.6250 - mean_squared_error: 1134817.6250 - val_loss: 480861.9688 - val_mean_squared_error: 480861.9688\n",
      "Epoch 34/50\n",
      "\u001b[1m100/100\u001b[0m \u001b[32m━━━━━━━━━━━━━━━━━━━━\u001b[0m\u001b[37m\u001b[0m \u001b[1m0s\u001b[0m 2ms/step - loss: 1486088.2500 - mean_squared_error: 1486088.2500 - val_loss: 506752.5312 - val_mean_squared_error: 506752.5312\n",
      "Epoch 35/50\n",
      "\u001b[1m100/100\u001b[0m \u001b[32m━━━━━━━━━━━━━━━━━━━━\u001b[0m\u001b[37m\u001b[0m \u001b[1m0s\u001b[0m 2ms/step - loss: 7175354.0000 - mean_squared_error: 7175354.0000 - val_loss: 504306.9062 - val_mean_squared_error: 504306.9062\n",
      "Epoch 36/50\n",
      "\u001b[1m100/100\u001b[0m \u001b[32m━━━━━━━━━━━━━━━━━━━━\u001b[0m\u001b[37m\u001b[0m \u001b[1m0s\u001b[0m 2ms/step - loss: 6354605.0000 - mean_squared_error: 6354605.0000 - val_loss: 514289.8438 - val_mean_squared_error: 514289.8438\n",
      "Epoch 37/50\n",
      "\u001b[1m100/100\u001b[0m \u001b[32m━━━━━━━━━━━━━━━━━━━━\u001b[0m\u001b[37m\u001b[0m \u001b[1m0s\u001b[0m 2ms/step - loss: 4929536.0000 - mean_squared_error: 4929536.0000 - val_loss: 527604.5625 - val_mean_squared_error: 527604.5625\n",
      "Epoch 38/50\n",
      "\u001b[1m100/100\u001b[0m \u001b[32m━━━━━━━━━━━━━━━━━━━━\u001b[0m\u001b[37m\u001b[0m \u001b[1m0s\u001b[0m 2ms/step - loss: 6315699.0000 - mean_squared_error: 6315699.0000 - val_loss: 545124.6250 - val_mean_squared_error: 545124.6250\n",
      "Epoch 39/50\n",
      "\u001b[1m100/100\u001b[0m \u001b[32m━━━━━━━━━━━━━━━━━━━━\u001b[0m\u001b[37m\u001b[0m \u001b[1m0s\u001b[0m 2ms/step - loss: 2261602.2500 - mean_squared_error: 2261602.2500 - val_loss: 591191.7500 - val_mean_squared_error: 591191.7500\n",
      "Epoch 40/50\n",
      "\u001b[1m100/100\u001b[0m \u001b[32m━━━━━━━━━━━━━━━━━━━━\u001b[0m\u001b[37m\u001b[0m \u001b[1m0s\u001b[0m 2ms/step - loss: 6393282.5000 - mean_squared_error: 6393282.5000 - val_loss: 585791.1250 - val_mean_squared_error: 585791.1250\n",
      "Epoch 41/50\n",
      "\u001b[1m100/100\u001b[0m \u001b[32m━━━━━━━━━━━━━━━━━━━━\u001b[0m\u001b[37m\u001b[0m \u001b[1m0s\u001b[0m 2ms/step - loss: 2078482.1250 - mean_squared_error: 2078482.1250 - val_loss: 615156.9375 - val_mean_squared_error: 615156.9375\n",
      "Epoch 42/50\n",
      "\u001b[1m100/100\u001b[0m \u001b[32m━━━━━━━━━━━━━━━━━━━━\u001b[0m\u001b[37m\u001b[0m \u001b[1m0s\u001b[0m 2ms/step - loss: 2844396.7500 - mean_squared_error: 2844396.7500 - val_loss: 604762.8125 - val_mean_squared_error: 604762.8125\n",
      "Epoch 43/50\n",
      "\u001b[1m100/100\u001b[0m \u001b[32m━━━━━━━━━━━━━━━━━━━━\u001b[0m\u001b[37m\u001b[0m \u001b[1m0s\u001b[0m 2ms/step - loss: 1426671.1250 - mean_squared_error: 1426671.1250 - val_loss: 621229.7500 - val_mean_squared_error: 621229.7500\n",
      "Epoch 44/50\n",
      "\u001b[1m100/100\u001b[0m \u001b[32m━━━━━━━━━━━━━━━━━━━━\u001b[0m\u001b[37m\u001b[0m \u001b[1m0s\u001b[0m 2ms/step - loss: 1193393.1250 - mean_squared_error: 1193393.1250 - val_loss: 651032.4375 - val_mean_squared_error: 651032.4375\n",
      "Epoch 45/50\n",
      "\u001b[1m100/100\u001b[0m \u001b[32m━━━━━━━━━━━━━━━━━━━━\u001b[0m\u001b[37m\u001b[0m \u001b[1m0s\u001b[0m 2ms/step - loss: 1953750.7500 - mean_squared_error: 1953750.7500 - val_loss: 699342.0000 - val_mean_squared_error: 699342.0000\n",
      "Epoch 46/50\n",
      "\u001b[1m100/100\u001b[0m \u001b[32m━━━━━━━━━━━━━━━━━━━━\u001b[0m\u001b[37m\u001b[0m \u001b[1m0s\u001b[0m 2ms/step - loss: 3486752.5000 - mean_squared_error: 3486752.5000 - val_loss: 732558.0000 - val_mean_squared_error: 732558.0000\n",
      "Epoch 47/50\n",
      "\u001b[1m100/100\u001b[0m \u001b[32m━━━━━━━━━━━━━━━━━━━━\u001b[0m\u001b[37m\u001b[0m \u001b[1m0s\u001b[0m 2ms/step - loss: 4781520.5000 - mean_squared_error: 4781520.5000 - val_loss: 755855.1875 - val_mean_squared_error: 755855.1875\n",
      "Epoch 48/50\n",
      "\u001b[1m100/100\u001b[0m \u001b[32m━━━━━━━━━━━━━━━━━━━━\u001b[0m\u001b[37m\u001b[0m \u001b[1m0s\u001b[0m 2ms/step - loss: 2517333.0000 - mean_squared_error: 2517333.0000 - val_loss: 795683.6250 - val_mean_squared_error: 795683.6250\n",
      "Epoch 49/50\n",
      "\u001b[1m100/100\u001b[0m \u001b[32m━━━━━━━━━━━━━━━━━━━━\u001b[0m\u001b[37m\u001b[0m \u001b[1m0s\u001b[0m 2ms/step - loss: 4985468.5000 - mean_squared_error: 4985468.5000 - val_loss: 767506.2500 - val_mean_squared_error: 767506.2500\n",
      "Epoch 50/50\n",
      "\u001b[1m100/100\u001b[0m \u001b[32m━━━━━━━━━━━━━━━━━━━━\u001b[0m\u001b[37m\u001b[0m \u001b[1m0s\u001b[0m 2ms/step - loss: 5778850.5000 - mean_squared_error: 5778850.5000 - val_loss: 803866.0000 - val_mean_squared_error: 803866.0000\n"
     ]
    }
   ],
   "source": [
    "import tensorflow as tf\n",
    "from tensorflow.keras.models import Sequential\n",
    "from tensorflow.keras.layers import Dense, Dropout\n",
    "\n",
    "# Construction du modèle de réseau de neurones à deux sorties\n",
    "model = Sequential()\n",
    "model.add(Dense(128, input_dim=X_train.shape[1], activation='relu'))\n",
    "model.add(Dropout(0.5))\n",
    "model.add(Dense(64, activation='relu'))\n",
    "model.add(Dropout(0.5))\n",
    "model.add(Dense(32, activation='relu'))\n",
    "model.add(Dense(2, activation='linear'))  # Deux sorties pour Vues et Utilisateurs\n",
    "\n",
    "# Compilation du modèle\n",
    "model.compile(optimizer='adam', loss='mean_squared_error', metrics=['mean_squared_error'])\n",
    "\n",
    "# Entraînement du modèle\n",
    "history = model.fit(X_train, y_train, epochs=50, batch_size=32, validation_split=0.2)\n"
   ]
  },
  {
   "cell_type": "code",
   "execution_count": 3,
   "id": "01df47f4-5e03-45c0-a441-d43261754623",
   "metadata": {},
   "outputs": [
    {
     "name": "stdout",
     "output_type": "stream",
     "text": [
      "\u001b[1m125/125\u001b[0m \u001b[32m━━━━━━━━━━━━━━━━━━━━\u001b[0m\u001b[37m\u001b[0m \u001b[1m0s\u001b[0m 1ms/step\n",
      "\u001b[1m32/32\u001b[0m \u001b[32m━━━━━━━━━━━━━━━━━━━━\u001b[0m\u001b[37m\u001b[0m \u001b[1m0s\u001b[0m 2ms/step\n",
      "Erreur quadratique moyenne d'entraînement pour les vues: 5146172.68372945\n",
      "Score R^2 d'entraînement pour les vues: 0.42011486656500896\n",
      "Erreur quadratique moyenne de test pour les vues: 635821.8786777294\n",
      "Score R^2 de test pour les vues: -1.4965125687823453\n",
      "Erreur quadratique moyenne d'entraînement pour les utilisateurs: 603794.053016146\n",
      "Score R^2 d'entraînement pour les utilisateurs: 0.4988372424816183\n",
      "Erreur quadratique moyenne de test pour les utilisateurs: 223970.08186199056\n",
      "Score R^2 de test pour les utilisateurs: -0.7751495146755025\n"
     ]
    }
   ],
   "source": [
    "from sklearn.metrics import mean_squared_error, r2_score\n",
    "\n",
    "# Faire des prédictions\n",
    "y_pred_train = model.predict(X_train)\n",
    "y_pred_test = model.predict(X_test)\n",
    "\n",
    "# Évaluation du modèle pour les vues\n",
    "mse_train_vues = mean_squared_error(y_train[:, 0], y_pred_train[:, 0])\n",
    "r2_train_vues = r2_score(y_train[:, 0], y_pred_train[:, 0])\n",
    "mse_test_vues = mean_squared_error(y_test[:, 0], y_pred_test[:, 0])\n",
    "r2_test_vues = r2_score(y_test[:, 0], y_pred_test[:, 0])\n",
    "\n",
    "print(f\"Erreur quadratique moyenne d'entraînement pour les vues: {mse_train_vues}\")\n",
    "print(f\"Score R^2 d'entraînement pour les vues: {r2_train_vues}\")\n",
    "print(f\"Erreur quadratique moyenne de test pour les vues: {mse_test_vues}\")\n",
    "print(f\"Score R^2 de test pour les vues: {r2_test_vues}\")\n",
    "\n",
    "# Évaluation du modèle pour les utilisateurs\n",
    "mse_train_users = mean_squared_error(y_train[:, 1], y_pred_train[:, 1])\n",
    "r2_train_users = r2_score(y_train[:, 1], y_pred_train[:, 1])\n",
    "mse_test_users = mean_squared_error(y_test[:, 1], y_pred_test[:, 1])\n",
    "r2_test_users = r2_score(y_test[:, 1], y_pred_test[:, 1])\n",
    "\n",
    "print(f\"Erreur quadratique moyenne d'entraînement pour les utilisateurs: {mse_train_users}\")\n",
    "print(f\"Score R^2 d'entraînement pour les utilisateurs: {r2_train_users}\")\n",
    "print(f\"Erreur quadratique moyenne de test pour les utilisateurs: {mse_test_users}\")\n",
    "print(f\"Score R^2 de test pour les utilisateurs: {r2_test_users}\")\n"
   ]
  },
  {
   "cell_type": "code",
   "execution_count": 4,
   "id": "9b8247b6-5e43-4050-a115-27523daae287",
   "metadata": {},
   "outputs": [
    {
     "name": "stderr",
     "output_type": "stream",
     "text": [
      "WARNING:absl:You are saving your model as an HDF5 file via `model.save()` or `keras.saving.save_model(model)`. This file format is considered legacy. We recommend using instead the native Keras format, e.g. `model.save('my_model.keras')` or `keras.saving.save_model(model, 'my_model.keras')`. \n"
     ]
    }
   ],
   "source": [
    "import pickle\n",
    "\n",
    "# Sauvegarder le modèle\n",
    "model.save('my_model.h5')\n",
    "\n",
    "# Sauvegarder l'encoder\n",
    "with open('encoder.pkl', 'wb') as f:\n",
    "    pickle.dump(encoder, f)\n",
    "\n",
    "# Sauvegarder le tfidf_vectorizer\n",
    "with open('tfidf_vectorizer.pkl', 'wb') as f:\n",
    "    pickle.dump(tfidf_vectorizer, f)\n"
   ]
  },
  {
   "cell_type": "code",
   "execution_count": null,
   "id": "8c08d87f-a54b-4ae4-bb60-67a81a72ebcc",
   "metadata": {},
   "outputs": [],
   "source": []
  }
 ],
 "metadata": {
  "kernelspec": {
   "display_name": "Python 3 (ipykernel)",
   "language": "python",
   "name": "python3"
  },
  "language_info": {
   "codemirror_mode": {
    "name": "ipython",
    "version": 3
   },
   "file_extension": ".py",
   "mimetype": "text/x-python",
   "name": "python",
   "nbconvert_exporter": "python",
   "pygments_lexer": "ipython3",
   "version": "3.11.5"
  }
 },
 "nbformat": 4,
 "nbformat_minor": 5
}
